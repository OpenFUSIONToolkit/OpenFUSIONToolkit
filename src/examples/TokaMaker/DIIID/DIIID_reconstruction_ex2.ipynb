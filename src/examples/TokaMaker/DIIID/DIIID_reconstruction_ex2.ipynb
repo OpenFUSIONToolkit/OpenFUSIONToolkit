{
 "cells": [
  {
   "cell_type": "markdown",
   "id": "669f10b0",
   "metadata": {},
   "source": [
    "### TokaMaker Example: Equilibrium reconstruction in DIII-D Using Real Data {#doc_tMaker_DIIID_ex4}\n",
    "==========\n",
    "In this example we show how to perform an equilibrium reconstruction in DIII-D using real data from a gEQDSK file, a k-file and a MHDIn.dat file.\n",
    "\n",
    "**Warning:** The reconstruction functionality in TokaMaker is still a work in progress, as the PSI-Tri capabilities are activated and tested. Please use with care."
   ]
  },
  {
   "cell_type": "code",
   "execution_count": 1,
   "id": "e728a1a6",
   "metadata": {},
   "outputs": [],
   "source": [
    "import os\n",
    "import sys\n",
    "import json\n",
    "import random\n",
    "from collections import OrderedDict\n",
    "import numpy as np\n",
    "import matplotlib.pyplot as plt\n",
    "plt.rcParams['figure.figsize']=(6,6)\n",
    "plt.rcParams['font.weight']='bold'\n",
    "plt.rcParams['axes.labelweight']='bold'\n",
    "plt.rcParams['lines.linewidth']=2\n",
    "plt.rcParams['lines.markeredgewidth']=2\n",
    "%matplotlib inline\n",
    "%config InlineBackend.figure_format = \"retina\""
   ]
  },
  {
   "cell_type": "markdown",
   "id": "abbbbde7",
   "metadata": {},
   "source": [
    "## Load TokaMaker library\n",
    "\n",
    "To load the TokaMaker python module we need to tell python where to the module is located. This can be done either through the `PYTHONPATH` environment variable or using within a script using `sys.path.append()` as below, where we look for the environement variable `OFT_ROOTPATH` to provide the path to where the OpenFUSIONToolkit is installed (`/Applications/OFT` on macOS).\n",
    "\n",
    "For meshing we will use the \\ref OpenFUSIONToolkit.TokaMaker.gs_Domain \"gs_Domain\" class to build a 2D triangular grid suitable for Grad-Shafranov equilibria. This class uses the [triangle code](https://www.cs.cmu.edu/~quake/triangle.html) through a [python wrapper](https://pypi.org/project/triangle/)."
   ]
  },
  {
   "cell_type": "code",
   "execution_count": 2,
   "id": "48be3556",
   "metadata": {},
   "outputs": [],
   "source": [
    "tokamaker_python_path = os.getenv('OFT_ROOTPATH')\n",
    "if tokamaker_python_path is not None:\n",
    "    sys.path.append(os.path.join(tokamaker_python_path,'python'))\n",
    "from OpenFUSIONToolkit import OFT_env\n",
    "from OpenFUSIONToolkit.TokaMaker import TokaMaker\n",
    "from OpenFUSIONToolkit.TokaMaker.meshing import gs_Domain\n",
    "from OpenFUSIONToolkit.TokaMaker.reconstruction import reconstruction\n",
    "from OpenFUSIONToolkit.TokaMaker.util import read_eqdsk, read_mhdin, read_kfile"
   ]
  },
  {
   "cell_type": "markdown",
   "id": "ab5319c8",
   "metadata": {},
   "source": [
    "## Initialize TokaMaker object\n",
    "We now create a \\ref OpenFUSIONToolkit.OFT_env \"OFT_env\" instance for execution using two threads and a \\ref OpenFUSIONToolkit.TokaMaker.TokaMaker \"TokaMaker\" instance to use for equilibrium calculations. Note at present only a single `TokaMaker` instance can be used per python kernel, so this command should only be called **once** in a given Jupyter notebook or python script. In the future this restriction may be relaxed."
   ]
  },
  {
   "cell_type": "code",
   "execution_count": 3,
   "id": "502c5b47",
   "metadata": {},
   "outputs": [
    {
     "name": "stdout",
     "output_type": "stream",
     "text": [
      "#----------------------------------------------\n",
      "Open FUSION Toolkit Initialized\n",
      "Development branch:   main\n",
      "Revision id:          6e5be72\n",
      "Parallelization Info:\n",
      "  Not compiled with MPI\n",
      "  # of OpenMP threads =    2\n",
      "Fortran input file    = /var/folders/qz/wcp9q1mj0c5fsyjtbt99bvhh0000gn/T/oft_68775/oftpyin\n",
      "XML input file        = none\n",
      "Integer Precisions    =    4   8\n",
      "Float Precisions      =    4   8  16\n",
      "Complex Precisions    =    4   8\n",
      "LA backend            = native\n",
      "#----------------------------------------------\n",
      "\n"
     ]
    }
   ],
   "source": [
    "myOFT = OFT_env(nthreads=2)\n",
    "mygs = TokaMaker(myOFT)"
   ]
  },
  {
   "cell_type": "markdown",
   "id": "120a9b4a",
   "metadata": {},
   "source": [
    "## Load Info from gEQDSK File and MHDIn.Dat\n"
   ]
  },
  {
   "cell_type": "code",
   "execution_count": 4,
   "id": "7682e6ce",
   "metadata": {},
   "outputs": [],
   "source": [
    "eqdsk = read_eqdsk('DIIID_files/g183593.04500')\n",
    "\n",
    "e_coil_names = ['ECOILA','ECOILB','E567UP','E567DN','E89DN','E89UP']\n",
    "f_coil_names = ['F1A', 'F2A', 'F3A', 'F4A', 'F5A', 'F6A', 'F7A', 'F8A', 'F9A', 'F1B', 'F2B', 'F3B', 'F4B', 'F5B', 'F6B', 'F7B', 'F8B', 'F9B']\n",
    "\n",
    "machine_dict = read_mhdin('DIIID_files/mhdin.dat', e_coil_names, f_coil_names)"
   ]
  },
  {
   "cell_type": "markdown",
   "id": "1bbd3dda",
   "metadata": {},
   "source": [
    "## Build Mesh in TokaMaker\n",
    "Now we build and setup a mesh using DIII-D geometry from a given JSON file and MHDIn.dat. Then, we call \\ref OpenFUSIONToolkit.TokaMaker.TokaMaker.setup \"setup()\" to setup the required solver objects. During this call we can specify the desired element order (min=2, max=4) and the toroidal field through F0 = B0*R0, where B0 is the toroidal field at a reference location R0. These values come from the gEQDSK file."
   ]
  },
  {
   "cell_type": "code",
   "execution_count": 5,
   "id": "0f3982c7",
   "metadata": {},
   "outputs": [
    {
     "name": "stdout",
     "output_type": "stream",
     "text": [
      "  Warning: sliver (angle=44.5) detected at point 2 (1.11329998, 1.46124995)\n",
      "  Warning: sliver (angle=45.5) detected at point 3 (0.92710001767, 1.271900042895)\n",
      "  Warning: sliver (angle=50.3) detected at point 1 (1.94034992, 1.21625066)\n",
      "  Warning: sliver (angle=51.8) detected at point 3 (1.6912499517650001, 1.46124995)\n",
      "  Warning: sliver (angle=40.0) detected at point 2 (2.2100768580911216, 1.0391999781099999)\n",
      "  Warning: sliver (angle=50.0) detected at point 3 (1.940349921565, 1.2652506579363332)\n",
      "  Warning: sliver (angle=44.5) detected at point 1 (1.1133, -1.46124995)\n",
      "  Warning: sliver (angle=38.7) detected at point 2 (2.01955006, -1.2112114987945721)\n",
      "  Warning: sliver (angle=50.5) detected at point 1 (2.2100768580816297, -1.0391999781099999)\n"
     ]
    }
   ],
   "source": [
    "plasma_dx = 0.04\n",
    "coil_dx = 0.03\n",
    "vv_dx = 0.04\n",
    "vac_dx = 0.10\n",
    "\n",
    "with open('DIIID_files/DIIID_geom.json','r') as fid:\n",
    "    DIIID_geom = json.load(fid)\n",
    "\n",
    "# Create a G-S domain\n",
    "gs_mesh = gs_Domain()\n",
    "# Define region information for mesh\n",
    "gs_mesh.define_region('air',vac_dx,'boundary')                     # Define the bounding region\n",
    "gs_mesh.define_region('plasma',plasma_dx,'plasma')                 # Define the plasma region and resolution\n",
    "gs_mesh.define_region('vacuum',vv_dx,'vacuum',allow_xpoints=True)  # Define the vacuum inside the VV\n",
    "# Define regions for VV\n",
    "for i, vv_segment in enumerate(DIIID_geom[\"vv\"]):\n",
    "    gs_mesh.define_region('vv{0}'.format(i),vv_dx,'conductor',eta=vv_segment[1])\n",
    "\n",
    "# Define geometry\n",
    "gs_mesh.add_polygon(DIIID_geom['limiter'],'plasma',parent_name='vacuum')  # Define the shape of the limiter\n",
    "gs_mesh.add_enclosed([1.75,1.25],'vacuum')\n",
    "# Define regions for VV\n",
    "for i, vv_segment in enumerate(DIIID_geom[\"vv\"]):\n",
    "    gs_mesh.add_polygon(vv_segment[0],'vv{0}'.format(i),parent_name='air')\n"
   ]
  },
  {
   "cell_type": "markdown",
   "id": "c1e1eb92",
   "metadata": {},
   "source": [
    "### Load E and F Coils from MHDIn.Dat"
   ]
  },
  {
   "cell_type": "code",
   "execution_count": 6,
   "id": "4cb4611c",
   "metadata": {},
   "outputs": [
    {
     "name": "stdout",
     "output_type": "stream",
     "text": [
      "  Warning: sliver (angle=45.0) detected at point 2 (1.07369997, 1.64619995)\n",
      "  Warning: sliver (angle=45.0) detected at point 1 (1.07210006, -1.64619995)\n",
      "  Warning: sliver (angle=45.0) detected at point 3 (0.93290006, -1.38759994)\n"
     ]
    }
   ],
   "source": [
    "# Define F coils\n",
    "for key, coil in DIIID_geom[\"coils\"].items():\n",
    "    if key.startswith('ECOIL'):\n",
    "        continue\n",
    "    gs_mesh.define_region(key,coil_dx,'coil',nTurns=machine_dict['FCOIL'][key][4])\n",
    "    gs_mesh.add_polygon(coil[\"pts\"],key,parent_name='air')\n",
    "\n",
    "# Define E Coils\n",
    "for coil_set_name, coil_set in machine_dict['ECOIL'].items():\n",
    "    i = 0\n",
    "    for coil in coil_set:\n",
    "        coil_name = \"{}_{}\".format(coil_set_name, i)\n",
    "        i = i + 1\n",
    "        r, z, w, h = coil\n",
    "        gs_mesh.define_region(coil_name,coil_dx,'coil',coil_set=coil_set_name,nTurns=1) # Check nTurns\n",
    "        gs_mesh.add_rectangle(r, z, w, h, coil_name, parent_name='air')\n"
   ]
  },
  {
   "cell_type": "markdown",
   "id": "2a484051",
   "metadata": {},
   "source": [
    "### Plot Topology"
   ]
  },
  {
   "cell_type": "code",
   "execution_count": 7,
   "id": "751cc95d",
   "metadata": {},
   "outputs": [
    {
     "data": {
      "image/png": "[encoded data removed]",
      "text/plain": [
       "<Figure size 400x600 with 1 Axes>"
      ]
     },
     "metadata": {
      "image/png": {
       "height": 611,
       "width": 362
      }
     },
     "output_type": "display_data"
    }
   ],
   "source": [
    "fig, ax = plt.subplots(1,1,figsize=(4,6),constrained_layout=True)\n",
    "gs_mesh.plot_topology(fig,ax)\n",
    "\n",
    "plt.show()"
   ]
  },
  {
   "cell_type": "markdown",
   "id": "858e21e5",
   "metadata": {},
   "source": [
    "### Setup Mesh"
   ]
  },
  {
   "cell_type": "code",
   "execution_count": 8,
   "id": "aa3f1611",
   "metadata": {},
   "outputs": [
    {
     "name": "stdout",
     "output_type": "stream",
     "text": [
      "Assembling regions:\n",
      "  # of unique points    = 1836\n",
      "  # of unique segments  = 657\n",
      "Generating mesh:\n",
      "  # of points  = 12951\n",
      "  # of cells   = 25740\n",
      "  # of regions = 167\n",
      "\n",
      "**** Loading OFT surface mesh\n",
      "\n",
      "**** Generating surface grid level  1\n",
      "  Generating boundary domain linkage\n",
      "  Mesh statistics:\n",
      "    Area         =  1.574E+01\n",
      "    # of points  =   12951\n",
      "    # of edges   =   38690\n",
      "    # of cells   =   25740\n",
      "    # of boundary points =     160\n",
      "    # of boundary edges  =     160\n",
      "    # of boundary cells  =     160\n",
      "  Resolution statistics:\n",
      "    hmin =  8.702E-04\n",
      "    hrms =  4.001E-02\n",
      "    hmax =  1.520E-01\n",
      "  Surface grounded at vertex    1813\n",
      "\n",
      "\n",
      "**** Creating Lagrange FE space\n",
      "  Order  =    2\n",
      "  Minlev =   -1\n",
      "\n",
      " Computing flux BC matrix \n",
      " Inverting real matrix\n",
      "   Time =    2.2120000000000000E-003\n"
     ]
    },
    {
     "name": "stderr",
     "output_type": "stream",
     "text": [
      "At line 5503 of file /Users/johnl/Desktop/OpenFUSIONToolkit-SOL-Currents/src/physics/grad_shaf.F90\n",
      "Fortran runtime warning: An array temporary was created for argument 'b' of procedure 'mat_add_values'\n",
      "At line 5507 of file /Users/johnl/Desktop/OpenFUSIONToolkit-SOL-Currents/src/physics/grad_shaf.F90\n",
      "Fortran runtime warning: An array temporary was created for argument 'b' of procedure 'mat_add_values'\n"
     ]
    }
   ],
   "source": [
    "mesh_pts, mesh_lc, mesh_reg = gs_mesh.build_mesh()\n",
    "coil_dict = gs_mesh.get_coils()\n",
    "cond_dict = gs_mesh.get_conductors()\n",
    "\n",
    "mygs.setup_mesh(mesh_pts, mesh_lc, mesh_reg)\n",
    "mygs.setup_regions(cond_dict=cond_dict,coil_dict=coil_dict)\n",
    "mygs.setup(order = 2, F0 = eqdsk['rcentr']*eqdsk['bcentr'])"
   ]
  },
  {
   "cell_type": "markdown",
   "id": "ec269518-00f8-44e3-8fed-ec0c7b6c9aaf",
   "metadata": {},
   "source": [
    "## Update GS Settings"
   ]
  },
  {
   "cell_type": "code",
   "execution_count": 9,
   "id": "67e5e73e-0fc4-466f-ba73-97b8d4d15bb5",
   "metadata": {},
   "outputs": [],
   "source": [
    "# Update maximum number of solver iterations\n",
    "mygs.settings.maxits=1000\n",
    "# mygs.settings.sol_currents = True\n",
    "mygs.update_settings()"
   ]
  },
  {
   "cell_type": "markdown",
   "id": "9400c6b4",
   "metadata": {},
   "source": [
    "## Define hard limits on coil currents\n",
    "Hard limits on coil currents can be set using \\ref OpenFUSIONToolkit.TokaMaker.TokaMaker.set_coil_bounds \"set_coil_bounds()\". In this case we just the simple and approximate bi-directional limit of 5 MA in each coil.\n",
    "\n",
    "Bounds are specified using a dictionary of 2 element lists, containing the minimum and maximum bound, where the dictionary key corresponds to the coil names, which are available in \\ref OpenFUSIONToolkit.TokaMaker.TokaMaker.coil_sets \"mygs.coil_sets\""
   ]
  },
  {
   "cell_type": "code",
   "execution_count": 10,
   "id": "4a8dce7e",
   "metadata": {},
   "outputs": [],
   "source": [
    "coil_bounds = {key: [-5.E6, 5.E6] for key in mygs.coil_sets}\n",
    "mygs.set_coil_bounds(coil_bounds)"
   ]
  },
  {
   "cell_type": "markdown",
   "id": "ee81d79c",
   "metadata": {},
   "source": [
    "## Define vertical stability coils"
   ]
  },
  {
   "cell_type": "code",
   "execution_count": 11,
   "id": "6bad937d",
   "metadata": {},
   "outputs": [],
   "source": [
    "vsc_signs = {key: 0 for key in mygs.coil_sets}\n",
    "vsc_signs['F9A'] = 1.0\n",
    "vsc_signs['F9B'] = -1.0\n",
    "mygs.set_coil_vsc(vsc_signs)"
   ]
  },
  {
   "cell_type": "markdown",
   "id": "fdfe247a",
   "metadata": {},
   "source": [
    "## Perform Reconstruction"
   ]
  },
  {
   "cell_type": "markdown",
   "id": "6bc6e6b2",
   "metadata": {},
   "source": [
    "### Create Reconstruction Object"
   ]
  },
  {
   "cell_type": "code",
   "execution_count": 12,
   "id": "51a543f2",
   "metadata": {},
   "outputs": [],
   "source": [
    "myrecon = reconstruction(mygs)"
   ]
  },
  {
   "cell_type": "markdown",
   "id": "d922206f",
   "metadata": {},
   "source": [
    "### Define Helper Functions to Read Sensor Locations\n",
    "For this example we load data representing flux loops and Mirnov sensor locations and orientations in DIII-D from several text files. The signals in these sensors will be used to constrain the reconstruction along with coil currents and global plasma quantities (eg. $I_p$). First we define two helper functions to read Flux Loop and Mirnov sensor configurations."
   ]
  },
  {
   "cell_type": "code",
   "execution_count": 13,
   "id": "8f6f82f4",
   "metadata": {},
   "outputs": [],
   "source": [
    "def read_points_flux(file_path,  sensor_names = None):\n",
    "    points = OrderedDict()\n",
    "    with open(file_path, 'r') as file:\n",
    "        for line in file:\n",
    "            if sensor_names is not None:\n",
    "                name, r, z = line.strip().split()  # Split and ignore the first field (name)\n",
    "                if name in sensor_names:\n",
    "                    points[name] = [float(r),float(z)]\n",
    "            else:\n",
    "                name, r, z = line.strip().split()  # Split and ignore the first field (name)\n",
    "                points[name] = [float(r),float(z)]\n",
    "    return points\n",
    "    \n",
    "def read_points_mag(file_path, sensor_names = None):\n",
    "    points = OrderedDict()\n",
    "    with open(file_path, 'r') as file:\n",
    "        for line in file:\n",
    "            if sensor_names is not None: \n",
    "                name, r, z, pol, orient, _, _, _ = line.strip().split()  # Split and ignore the first field (name)\n",
    "                if name in sensor_names:\n",
    "                    points[name] = [float(r), float(z), float(orient)]\n",
    "            else: \n",
    "                name, r, z, pol, orient, _, _, _ = line.strip().split()  # Split and ignore the first field (name)\n",
    "                points[name] = [float(r), float(z), float(orient)]  # Convert r and z to floats and append\n",
    "    return points"
   ]
  },
  {
   "cell_type": "markdown",
   "id": "b134a233",
   "metadata": {},
   "source": [
    "### Load Sensor Locations From Files"
   ]
  },
  {
   "cell_type": "code",
   "execution_count": 14,
   "id": "ef44b39b",
   "metadata": {},
   "outputs": [],
   "source": [
    "magSensors322 = read_points_mag('DIIID_files/3222magsensorloc.txt')\n",
    "fluxLoops_onf = read_points_flux('DIIID_files/fcoil_fluxloops.txt')\n",
    "fluxLoops_vv = read_points_flux('DIIID_files/vv_fluxloops.txt')"
   ]
  },
  {
   "cell_type": "markdown",
   "id": "71dd9141",
   "metadata": {},
   "source": [
    "### Plot probe locations"
   ]
  },
  {
   "cell_type": "code",
   "execution_count": 15,
   "id": "ee9fad19",
   "metadata": {},
   "outputs": [
    {
     "data": {
      "image/png": "[encoded data removed]",
      "text/plain": [
       "<Figure size 600x600 with 1 Axes>"
      ]
     },
     "metadata": {
      "image/png": {
       "height": 505,
       "width": 359
      }
     },
     "output_type": "display_data"
    }
   ],
   "source": [
    "fig, ax = plt.subplots(1,1)\n",
    "mygs.plot_machine(fig,ax,limiter_color='k')\n",
    "mygs.plot_psi(fig,ax,plasma_nlevels=5,vacuum_nlevels=5)\n",
    "mygs.plot_constraints(fig, ax)\n",
    "\n",
    "def plot_sensors(sensors, label, color):\n",
    "    r_coords = [s[0] for _,s in sensors.items()]\n",
    "    z_coords = [s[1] for _,s in sensors.items()]\n",
    "    ax.scatter(x=r_coords, y=z_coords, label=label, color=color)\n",
    "\n",
    "plot_sensors(magSensors322, label=\"Mirnov Probe\", color='hotpink')\n",
    "plot_sensors({**fluxLoops_vv, **fluxLoops_onf}, label=\"Flux Loop\", color='cyan')\n",
    "\n",
    "ax.legend()\n",
    "plt.show()"
   ]
  },
  {
   "cell_type": "markdown",
   "id": "61a5a39c",
   "metadata": {},
   "source": [
    "### Load Shot Data from DIII-D\n",
    "Here we load data from a DIII-D k file representing a shot at a given point in time."
   ]
  },
  {
   "cell_type": "code",
   "execution_count": 16,
   "id": "a75fc798",
   "metadata": {},
   "outputs": [],
   "source": [
    "probes_dict, loops_dict, e_coil_dict, f_coil_dict = read_kfile('DIIID_files/k183593.04500', e_coil_names, f_coil_names, machine_dict)"
   ]
  },
  {
   "cell_type": "markdown",
   "id": "e7f97f96",
   "metadata": {},
   "source": [
    "### Read Data From DIII-D to Mirnov Probes"
   ]
  },
  {
   "cell_type": "code",
   "execution_count": 17,
   "id": "c26bc9eb",
   "metadata": {},
   "outputs": [],
   "source": [
    "def convert_Mirnov_coordinates(sensor, angle):\n",
    "    R, z, _ = sensor\n",
    "    position = np.array([R, z])\n",
    "\n",
    "    angle_rads = angle * np.pi / 180\n",
    "    orientation = np.array([np.cos(angle_rads), 0, np.sin(angle_rads)])\n",
    "    return position, orientation\n",
    "\n",
    "B_vals = [probes_dict[key][0] for key in magSensors322 if key in probes_dict]\n",
    "B_mean = np.mean(np.positive(B_vals))\n",
    "mirnov_names = []\n",
    "\n",
    "for key, mag in magSensors322.items():\n",
    "    mirnov_names.append(key)\n",
    "    position, orientation = convert_Mirnov_coordinates(mag, machine_dict['AMP2'][key])\n",
    "    B_meas, _ = probes_dict[key]\n",
    "    myrecon.add_Mirnov(position, orientation, B_meas, err=0.1*max(B_mean, abs(B_meas)))\n"
   ]
  },
  {
   "cell_type": "markdown",
   "id": "d82ae453",
   "metadata": {},
   "source": [
    "### Read Data From Equilibrium to Flux Loops"
   ]
  },
  {
   "cell_type": "code",
   "execution_count": 18,
   "id": "ddf42fef",
   "metadata": {},
   "outputs": [],
   "source": [
    "flux_locs = []\n",
    "flux_vals = []\n",
    "\n",
    "psi_vals_1 = [loops_dict[key][0] for key in fluxLoops_onf if key in loops_dict]\n",
    "psi_mean_1 = np.mean(np.positive(psi_vals_1))\n",
    "psi_vals_2 = [loops_dict[key][0] for key in fluxLoops_vv if key in loops_dict]\n",
    "psi_mean_2 = np.mean(np.positive(psi_vals_2))\n",
    "\n",
    "flux_names = []\n",
    "\n",
    "for key, fl in fluxLoops_onf.items():\n",
    "    if key not in loops_dict:\n",
    "        continue\n",
    "    flux_names.append(key)\n",
    "    B_tmp, _ = loops_dict[key]\n",
    "    flux_locs.append(fl)\n",
    "    flux_vals.append(B_tmp)\n",
    "    psi_val = B_tmp*2.0*np.pi\n",
    "    myrecon.add_flux_loop(fl, psi_val, err=0.1*(max(psi_mean_1, abs(psi_val))))\n",
    "\n",
    "for key, fl in fluxLoops_vv.items():\n",
    "    if key not in loops_dict:\n",
    "        continue\n",
    "    flux_names.append(key)\n",
    "    B_tmp, _ = loops_dict[key]\n",
    "    flux_locs.append(fl)\n",
    "    flux_vals.append(B_tmp)\n",
    "    psi_val = B_tmp*2.0*np.pi\n",
    "    myrecon.add_flux_loop(fl, psi_val, err=0.1*(max(psi_mean_2, abs(psi_val))))"
   ]
  },
  {
   "cell_type": "markdown",
   "id": "a8acd533",
   "metadata": {},
   "source": [
    "## Profiles"
   ]
  },
  {
   "cell_type": "code",
   "execution_count": 19,
   "id": "70c73743",
   "metadata": {},
   "outputs": [],
   "source": [
    "# ffprim = eqdsk['ffprim']\n",
    "# pprime = eqdsk['pprime']\n",
    "\n",
    "\n",
    "# psi_eqdsk = np.linspace(0.0,1.0,np.size(ffprim))\n",
    "# psi_sample = np.linspace(0.0,1.0,50)\n",
    "\n",
    "# psi_prof = np.copy(psi_sample)\n",
    "# ffp_prof = np.transpose(np.vstack((psi_prof,np.interp(psi_sample,psi_eqdsk,ffprim)))).copy()\n",
    "# pp_prof = np.transpose(np.vstack((psi_prof,np.interp(psi_sample,psi_eqdsk,pprime)))).copy()\n",
    "\n",
    "# mygs.set_profiles(ffp_prof={'type': 'linterp', 'y': ffp_prof[:,1], 'x': psi_sample},pp_prof={'type': 'linterp', 'y': pp_prof[:,1], 'x': psi_sample})"
   ]
  },
  {
   "cell_type": "markdown",
   "id": "ede6f372",
   "metadata": {},
   "source": [
    "## Compute starting equilibrium"
   ]
  },
  {
   "cell_type": "code",
   "execution_count": 20,
   "id": "89c1f4ef-e7bd-4aa8-80a0-1383d1f8bd96",
   "metadata": {},
   "outputs": [
    {
     "ename": "SyntaxError",
     "evalue": "'(' was never closed (1142832763.py, line 26)",
     "output_type": "error",
     "traceback": [
      "\u001b[0;36m  Cell \u001b[0;32mIn[20], line 26\u001b[0;36m\u001b[0m\n\u001b[0;31m    regularization_terms.append(mygs.coil_reg_term({key: 1.0},\u001b[0m\n\u001b[0m                               ^\u001b[0m\n\u001b[0;31mSyntaxError\u001b[0m\u001b[0;31m:\u001b[0m '(' was never closed\n"
     ]
    }
   ],
   "source": [
    "##### Add plasma current and flux loop constraints\n",
    "Ip_target=abs(eqdsk['ip'])\n",
    "P0_target=eqdsk['pres'][0]\n",
    "mygs.set_targets(Ip=Ip_target, pax=P0_target)\n",
    "\n",
    "mygs.set_flux(np.array(flux_locs), np.array(flux_vals))\n",
    "\n",
    "target_currents = {}\n",
    "\n",
    "for key, value in e_coil_dict.items():\n",
    "    target_currents[key] = value[0]\n",
    "\n",
    "for key, value in f_coil_dict.items():\n",
    "    target_currents[key] = value[0] / machine_dict['FCOIL'][key][4]\n",
    "\n",
    "\n",
    "# Set coil regularization to weakly track measured coil currents\n",
    "regularization_terms = []\n",
    "for key in e_coil_dict:\n",
    "    regularization_terms.append(mygs.coil_reg_term({key: 1.0},\n",
    "                                                   target=target_currents[key],\n",
    "                                                   weight=1.0E3))\n",
    "\n",
    "for key in f_coil_dict:\n",
    "    weight = 1.0\n",
    "    if key.startswith('F5'):\n",
    "        weight = 1.0E2\n",
    "    regularization_terms.append(mygs.coil_reg_term({key: 1.0},\n",
    "                                                   target=target_currents[key],\n",
    "                                                   weight=1.0E2))\n",
    "\n",
    "# Set zero target current and small weight on virtual VSC to allow up-down adjustment\n",
    "regularization_terms.append(mygs.coil_reg_term({'#VSC': 1.0},target=0.0,weight=1.E-2))\n",
    "\n",
    "# # Set regularization weights\n",
    "# regularization_terms = []\n",
    "# for name, target_current in target_currents.items():\n",
    "#     # Set specific target currents from input equilibrium and different weights depending on the coil set\n",
    "#     if name.startswith('ECOIL'):\n",
    "#         regularization_terms.append(mygs.coil_reg_term({key: 1.0},target=target_current,weight=61.0))\n",
    "#     elif name.startswith('F'):\n",
    "#         if name.startswith('F5'):\n",
    "#             regularization_terms.append(mygs.coil_reg_term({key: 1.0},target=target_current,weight=1.E2))\n",
    "#         else:\n",
    "#             regularization_terms.append(mygs.coil_reg_term({key: 1.0},target=target_current,weight=1.E0))\n",
    "# # Set zero target current and small weight on virtual VSC to allow up-down adjustment\n",
    "# regularization_terms.append(mygs.coil_reg_term({'#VSC': 1.0},target=0.0,weight=1.E2))\n",
    "\n",
    "\n",
    "# Pass regularization terms to TokaMaker\n",
    "mygs.set_coil_reg(reg_terms=regularization_terms)\n",
    "\n",
    "# current_bounds = {}\n",
    "\n",
    "# for key in e_coil_dict:\n",
    "#     val = target_currents[key]\n",
    "#     current_bounds[key] = [val - 5.0E2, val + 5.0E2]\n",
    "# for key in f_coil_dict:\n",
    "#     val = target_currents[key]\n",
    "#     current_bounds[key] = [val - 5.0E2, val + 5.0E2]\n",
    "# # current_bounds.append([-50.E6, 50.E6])\n",
    "# mygs.set_coil_bounds(current_bounds)\n",
    "\n",
    "# Initial equilibrium with very rough guess\n",
    "R0 = eqdsk['rcentr']\n",
    "Z0 = 0.0\n",
    "a = 0.6\n",
    "kappa = 1.13\n",
    "delta = .1\n",
    "\n",
    "err_flag = mygs.init_psi(R0, Z0, a, kappa, delta)\n",
    "\n",
    "# Compute initial equilibrium\n",
    "mygs.update_settings()\n",
    "mygs.solve()"
   ]
  },
  {
   "cell_type": "markdown",
   "id": "b7a15aeb",
   "metadata": {},
   "source": [
    "## Plot starting equilibrium"
   ]
  },
  {
   "cell_type": "code",
   "execution_count": null,
   "id": "5ec150b3",
   "metadata": {},
   "outputs": [],
   "source": [
    "psi_eq = mygs.get_psi()\n",
    "\n",
    "print(len(psi_eq))\n",
    "\n",
    "fig, ax = plt.subplots(1,1)\n",
    "mygs.plot_machine(fig,ax,coil_colormap='seismic',coil_scale=1.E-6,coil_clabel=r'$I_C$ [MA]',coil_symmap=True)\n",
    "mygs.plot_psi(fig,ax,plasma_nlevels=5,vacuum_nlevels=5)\n",
    "mygs.plot_psi(fig,ax,psi_eq,plasma_levels=[1.0,],plasma_color='red',vacuum_nlevels=0,plasma_linestyles='dashed')\n",
    "\n",
    "plt.show()"
   ]
  },
  {
   "cell_type": "code",
   "execution_count": null,
   "id": "69b10c35",
   "metadata": {},
   "outputs": [],
   "source": [
    "print(\"Coil Currents [MA]:\")\n",
    "coil_currents, _ = mygs.get_coil_currents()\n",
    "for key, current in coil_currents.items():\n",
    "    if key not in target_currents:\n",
    "        continue\n",
    "    current_adj = current\n",
    "    if key.startswith('F'):\n",
    "        current_adj = current/machine_dict['FCOIL'][key][4]\n",
    "    measured_currt = target_currents[key]\n",
    "    pct_diff = 100.0 * (current_adj-measured_currt)/measured_currt\n",
    "    print('  {0:10} {1:10.2F} {2:10.2F} {3:10.2F}%'.format(key+\":\", current_adj/1.E3, measured_currt/1.E3, pct_diff))"
   ]
  },
  {
   "cell_type": "markdown",
   "id": "dbb329b5",
   "metadata": {},
   "source": [
    "## Plot Measured vs. Computed SE Values"
   ]
  },
  {
   "cell_type": "markdown",
   "id": "8b6c04eb-104e-4a67-8700-994d6a0577be",
   "metadata": {},
   "source": [
    "### Plot SE Currents"
   ]
  },
  {
   "cell_type": "markdown",
   "id": "53d3cb87",
   "metadata": {},
   "source": []
  },
  {
   "cell_type": "code",
   "execution_count": null,
   "id": "50cea164",
   "metadata": {},
   "outputs": [],
   "source": [
    "plot_colors = {'Targets': 'red', 'Realized': 'green'}\n",
    "\n",
    "def plot_currents():\n",
    "    coil_currents, _ = mygs.get_coil_currents()\n",
    "    coil_names = [key for key in coil_currents if key in target_currents]\n",
    "    coil_info = {'Targets': [abs(target_currents[key]) for key in coil_names if key in target_currents],\n",
    "                 'Realized': [abs(coil_currents[key]) for key in coil_names if key in target_currents]}\n",
    "    \n",
    "    x = np.arange(len(coil_names))  # the label locations\n",
    "    width = 0.5  # the width of the bars\n",
    "    multiplier = 0\n",
    "    \n",
    "    fig, ax = plt.subplots(figsize=(25, 15))\n",
    "    \n",
    "    for attribute, measurement in coil_info.items():\n",
    "        offset = width * multiplier\n",
    "        rects = ax.bar(x + offset, measurement, width, label=attribute, color=plot_colors[attribute])\n",
    "    #     ax.bar_label(rects, padding=3)\n",
    "        multiplier += 1\n",
    "    \n",
    "    ax.set_ylabel('Current')\n",
    "    ax.set_title('Currents (Target vs. Realized)')\n",
    "    ax.set_xticks(x + width, coil_names)\n",
    "    ax.legend(loc='upper left', ncols=3)\n",
    "    ax.set_ylim(0, 2.5E4)\n",
    "    \n",
    "    plt.show()\n",
    "\n",
    "plot_currents()"
   ]
  },
  {
   "cell_type": "markdown",
   "id": "ea9a09df-f878-4d55-abeb-40265701d9a1",
   "metadata": {},
   "source": [
    "### Plot SE Sensors"
   ]
  },
  {
   "cell_type": "code",
   "execution_count": null,
   "id": "9246ae07-ac4a-49ca-870c-41358aa0aee1",
   "metadata": {},
   "outputs": [],
   "source": [
    "def plot_mirnov():\n",
    "    mirnov_vals = []\n",
    "    B_eval = mygs.get_field_eval('B')\n",
    "    for key in mirnov_names:\n",
    "        coords = magSensors322[key]\n",
    "        position, orientation = convert_Mirnov_coordinates(coords, machine_dict['AMP2'][key])\n",
    "        B_field = B_eval.eval(position)\n",
    "        mirnov_vals.append(np.dot(B_field, orientation))\n",
    "    \n",
    "    mirnov_targets = [probes_dict[key][0] for key in mirnov_names]\n",
    "    mirnov_info = {'Targets': mirnov_targets,\n",
    "                 'Realized': mirnov_vals}\n",
    "    \n",
    "    x_m = np.arange(len(mirnov_names))  # the label locations\n",
    "    width = 0.5  # the width of the bars\n",
    "    multiplier = 0\n",
    "    \n",
    "    fig, ax = plt.subplots(1, figsize=(30, 15))\n",
    "    \n",
    "    for attribute, measurement in mirnov_info.items():\n",
    "        offset = width * multiplier\n",
    "        rects_m = ax.bar(x_m + offset, measurement, width, label=attribute, color=plot_colors[attribute])\n",
    "        multiplier += 1\n",
    "    \n",
    "    ax.set_ylabel('B (Tesla)')\n",
    "    ax.set_title('Mirnov Probes')\n",
    "    ax.legend(loc='upper left', ncols=3)\n",
    "    ax.set_ylim(0, 0.5)\n",
    "    ax.set_xticks(x_m, labels=mirnov_names, rotation=45)\n",
    "    \n",
    "    plt.show()\n",
    "\n",
    "plot_mirnov()"
   ]
  },
  {
   "cell_type": "code",
   "execution_count": null,
   "id": "1fa1f352-a480-48a5-b6d3-332a941b42fb",
   "metadata": {},
   "outputs": [],
   "source": [
    "from matplotlib.patches import Patch\n",
    "\n",
    "def plot_flux():\n",
    "    flux_vals = []\n",
    "    flux_dict = {**fluxLoops_onf, **fluxLoops_vv}\n",
    "    psi_eval = mygs.get_field_eval('PSI')\n",
    "    for key in flux_names:\n",
    "        position = flux_dict[key]\n",
    "        psi_value = psi_eval.eval(position) * 2 * np.pi\n",
    "        flux_vals.append(psi_value)\n",
    "    \n",
    "    flux_targets = [2 * np.pi * loops_dict[key][0] if key in loops_dict else 0.0 for key in flux_names]\n",
    "    flux_info = {'Targets': flux_targets,\n",
    "                 'Realized': flux_vals}\n",
    "    \n",
    "    figs, ax = plt.subplots(1, figsize=(30, 15))\n",
    "    \n",
    "    x_f = np.arange(len(flux_names))  # the label locations\n",
    "    width = 0.5  # the width of the bars\n",
    "    multiplier = 0\n",
    "    \n",
    "    flux_targets_data = {flux_names[i]: flux_targets[i] for i in range(len(flux_names))}\n",
    "    flux_vals_data = {flux_names[i]: flux_vals[i] for i in range(len(flux_names))}\n",
    "    \n",
    "    \n",
    "    for i in range(len(flux_names)):\n",
    "        ax.bar(flux_names[i], height = abs(flux_targets[i]), width=0.5, color='red', align='edge')\n",
    "        ax.bar(flux_names[i], height = abs(flux_vals[i]), width=-0.5, color='green', align='edge')\n",
    "    \n",
    "    legend_elements = [Patch(facecolor='red', label='Targets'), Patch(facecolor='green', label='Realized')]\n",
    "    ax.legend(handles=legend_elements,loc='upper left')\n",
    "    \n",
    "    ax.set_ylabel('PSI (Weber)')\n",
    "    ax.set_title('Flux Loops')\n",
    "    ax.set_ylim(0, 2.5)\n",
    "    ax.set_xticks(x_f, labels=flux_names, rotation=45)\n",
    "    \n",
    "    plt.show()\n",
    "\n",
    "plot_flux()"
   ]
  },
  {
   "cell_type": "markdown",
   "id": "e19af1cd",
   "metadata": {},
   "source": [
    "### Perform Reconstruction"
   ]
  },
  {
   "cell_type": "code",
   "execution_count": null,
   "id": "adde43c2",
   "metadata": {},
   "outputs": [],
   "source": [
    "# Remove all shape constraints\n",
    "mygs.set_isoflux(None)\n",
    "mygs.set_flux(None,None)\n",
    "mygs.set_saddles(None)\n",
    "\n",
    "# Set initial position targets from current values\n",
    "mygs.set_targets(R0=mygs.o_point[0],V0=mygs.o_point[1])\n",
    "\n",
    "# Set Recon Plasma Current\n",
    "myrecon.set_Ip(Ip_target, err=0.1*Ip_target)\n",
    "\n",
    "# Set reconstruction settings\n",
    "myrecon.settings.fitPnorm = False\n",
    "myrecon.settings.fitR0 = True\n",
    "myrecon.settings.fitV0 = True\n",
    "myrecon.settings.fitCoils = True\n",
    "myrecon.settings.pm = False\n",
    "\n",
    "# Perform reconstructions\n",
    "err_flag = myrecon.reconstruct()"
   ]
  },
  {
   "cell_type": "markdown",
   "id": "64642a6b",
   "metadata": {},
   "source": [
    "### Print equilibrium information and coil currents\n",
    "As above we use \\ref OpenFUSIONToolkit.TokaMaker.TokaMaker.print_info \"print_info()\" and \\ref OpenFUSIONToolkit.TokaMaker.TokaMaker.get_coil_currents \"get_coil_currents()\" to display information on the final equilibrium."
   ]
  },
  {
   "cell_type": "code",
   "execution_count": null,
   "id": "a2c668b7",
   "metadata": {},
   "outputs": [],
   "source": [
    "mygs.print_info()\n",
    "\n",
    "print()\n",
    "print(\"Coil Currents [MA]:\")\n",
    "coil_currents, _ = mygs.get_coil_currents()\n",
    "for key, current in coil_currents.items():\n",
    "    if key not in target_currents:\n",
    "        continue\n",
    "    measured_currt = target_currents[key]\n",
    "    pct_diff = 100.0 * (current-measured_currt)/measured_currt\n",
    "    print('  {0:10} {1:10.2F} {2:10.2F}'.format(key+\":\", current/1.E6, target_currents[key]/1.E6))"
   ]
  },
  {
   "cell_type": "markdown",
   "id": "55a791b5",
   "metadata": {},
   "source": [
    "## Plot final reconstructed equilibrium"
   ]
  },
  {
   "cell_type": "code",
   "execution_count": null,
   "id": "d4be7285",
   "metadata": {},
   "outputs": [],
   "source": [
    "# Plot Psi\n",
    "fig, ax = plt.subplots(1,1)\n",
    "mygs.plot_machine(fig,ax,coil_colormap='seismic',coil_scale=1.E-6,coil_clabel=r'$I_C$ [MA]',coil_symmap=True)\n",
    "mygs.plot_psi(fig,ax,plasma_nlevels=5,vacuum_nlevels=5)\n",
    "mygs.plot_psi(fig,ax,psi_eq,plasma_levels=[1.0,],plasma_color='red',vacuum_nlevels=0,plasma_linestyles='dashed')\n",
    "\n",
    "LCFS_eqdsk = eqdsk['rzout']\n",
    "ax.plot(LCFS_eqdsk[:,0], LCFS_eqdsk[:,1], color='cyan')\n",
    "\n",
    "plt.show()"
   ]
  },
  {
   "cell_type": "markdown",
   "id": "4a4d7d49",
   "metadata": {},
   "source": [
    "## Plot Currents"
   ]
  },
  {
   "cell_type": "code",
   "execution_count": null,
   "id": "a0d2162f",
   "metadata": {},
   "outputs": [],
   "source": [
    "plot_currents()"
   ]
  },
  {
   "cell_type": "code",
   "execution_count": null,
   "id": "dba6798e-0a2b-4bf4-aded-6415add550c1",
   "metadata": {},
   "outputs": [],
   "source": [
    "plot_mirnov()"
   ]
  },
  {
   "cell_type": "code",
   "execution_count": null,
   "id": "fb8c2a71-682c-47ce-912b-d05057a679fe",
   "metadata": {},
   "outputs": [],
   "source": [
    "plot_flux()"
   ]
  },
  {
   "cell_type": "markdown",
   "id": "0cdc904c",
   "metadata": {},
   "source": []
  },
  {
   "cell_type": "markdown",
   "id": "a90ea408",
   "metadata": {},
   "source": [
    "## Get Strike Points"
   ]
  },
  {
   "cell_type": "code",
   "execution_count": null,
   "id": "a6be076c",
   "metadata": {},
   "outputs": [],
   "source": [
    "strike_pts = mygs.get_strike_points()\n",
    "print(strike_pts)"
   ]
  },
  {
   "cell_type": "code",
   "execution_count": null,
   "id": "7235e010",
   "metadata": {},
   "outputs": [],
   "source": [
    "# Plot Psi\n",
    "fig, ax = plt.subplots(1,1)\n",
    "mygs.plot_machine(fig,ax,coil_colormap='seismic',coil_scale=1.E-6,coil_clabel=r'$I_C$ [MA]',coil_symmap=True)\n",
    "mygs.plot_psi(fig,ax,plasma_nlevels=5,vacuum_nlevels=5)\n",
    "mygs.plot_psi(fig,ax,psi_eq,plasma_levels=[1.0,],plasma_color='red',vacuum_nlevels=0,plasma_linestyles='dashed')\n",
    "\n",
    "strike_pts_r = [sp[0] for sp in strike_pts]\n",
    "strike_pts_z = [sp[1] for sp in strike_pts]\n",
    "ax.scatter(strike_pts_r, strike_pts_z, color='limegreen', zorder=10)\n",
    "\n",
    "plt.show()"
   ]
  },
  {
   "cell_type": "code",
   "execution_count": null,
   "id": "d873bfbb",
   "metadata": {},
   "outputs": [],
   "source": []
  },
  {
   "cell_type": "markdown",
   "id": "80ba4360",
   "metadata": {},
   "source": []
  }
 ],
 "metadata": {
  "kernelspec": {
   "display_name": "Python 3 (ipykernel)",
   "language": "python",
   "name": "python3"
  },
  "language_info": {
   "codemirror_mode": {
    "name": "ipython",
    "version": 3
   },
   "file_extension": ".py",
   "mimetype": "text/x-python",
   "name": "python",
   "nbconvert_exporter": "python",
   "pygments_lexer": "ipython3",
   "version": "3.12.7"
  }
 },
 "nbformat": 4,
 "nbformat_minor": 5
}
